{
 "cells": [
  {
   "cell_type": "markdown",
   "metadata": {},
   "source": [
    "## Defining a Class in Python"
   ]
  },
  {
   "cell_type": "code",
   "execution_count": 1,
   "metadata": {},
   "outputs": [
    {
     "name": "stdout",
     "output_type": "stream",
     "text": [
      "<__main__.Student object at 0x00000272BADC8AC8>\n",
      "<__main__.Student object at 0x00000272BADC8A58>\n"
     ]
    }
   ],
   "source": [
    "class Student:\n",
    "    pass\n",
    "\n",
    "student = Student()\n",
    "\n",
    "print(student)\n",
    "\n",
    "new_student = Student()\n",
    "\n",
    "print(new_student)"
   ]
  },
  {
   "cell_type": "markdown",
   "metadata": {},
   "source": [
    "## Adding Methods to Our Class"
   ]
  },
  {
   "cell_type": "code",
   "execution_count": 2,
   "metadata": {},
   "outputs": [
    {
     "name": "stdout",
     "output_type": "stream",
     "text": [
      "[{'name': 'Mark', 'student_id': 332}]\n"
     ]
    }
   ],
   "source": [
    "students = []\n",
    "\n",
    "\n",
    "class Student:\n",
    "    def add_student(self, name, student_id=332):\n",
    "        student = {\"name\": name, \"student_id\": student_id}\n",
    "        students.append(student)\n",
    "\n",
    "        \n",
    "student = Student()\n",
    "student.add_student(\"Mark\")\n",
    "\n",
    "print(students)"
   ]
  },
  {
   "cell_type": "markdown",
   "metadata": {},
   "source": [
    "## Constructor and Other Special Methods"
   ]
  },
  {
   "cell_type": "code",
   "execution_count": 3,
   "metadata": {},
   "outputs": [
    {
     "name": "stdout",
     "output_type": "stream",
     "text": [
      "Student\n"
     ]
    }
   ],
   "source": [
    "students = []\n",
    "\n",
    "\n",
    "class Student:\n",
    "    def __init__(self, name, student_id=332):\n",
    "        student = {\"name\": name, \"student_id\": student_id}\n",
    "        students.append(student)\n",
    "\n",
    "    def __str__(self):\n",
    "        return \"Student\"\n",
    "\n",
    "mark = Student(\"Mark\")\n",
    "print(mark)\n"
   ]
  },
  {
   "cell_type": "markdown",
   "metadata": {},
   "source": [
    "## Class and Instance Attributes"
   ]
  },
  {
   "cell_type": "code",
   "execution_count": 4,
   "metadata": {},
   "outputs": [
    {
     "name": "stdout",
     "output_type": "stream",
     "text": [
      "Springfield Elementary\n"
     ]
    }
   ],
   "source": [
    "students = []\n",
    "\n",
    "\n",
    "class Student:\n",
    "\n",
    "    school_name = \"Springfield Elementary\"\n",
    "\n",
    "    def __init__(self, name, student_id=332):\n",
    "        self.name = name\n",
    "        self.student_id = student_id\n",
    "        students.append(self)\n",
    "\n",
    "    def __str__(self):\n",
    "        return \"Student \" + self.name\n",
    "\n",
    "    def get_name_capitalize(self):\n",
    "        return self.name.capitalize()\n",
    "\n",
    "    def get_school_name(self):\n",
    "        return self.school_name\n",
    "\n",
    "# mark = Student(\"Mark\")\n",
    "# print(mark)\n",
    "\n",
    "print(Student.school_name)\n"
   ]
  },
  {
   "cell_type": "markdown",
   "metadata": {},
   "source": [
    "## Inheritance and Polymorphism"
   ]
  },
  {
   "cell_type": "code",
   "execution_count": 5,
   "metadata": {
    "collapsed": true
   },
   "outputs": [],
   "source": [
    "students = []\n",
    "\n",
    "\n",
    "class Student:\n",
    "\n",
    "    school_name = \"Springfield Elementary\"\n",
    "\n",
    "    def __init__(self, name, student_id=332):\n",
    "        self.name = name\n",
    "        self.student_id = student_id\n",
    "        students.append(self)\n",
    "\n",
    "    def __str__(self):\n",
    "        return \"Student \" + self.name\n",
    "\n",
    "    def get_name_capitalize(self):\n",
    "        return self.name.capitalize()\n",
    "\n",
    "    def get_school_name(self):\n",
    "        return self.school_name\n",
    "\n",
    "\n",
    "class HighSchoolStudent(Student):\n",
    "\n",
    "    school_name = \"Springfield High School\"\n",
    "\n",
    "    def get_school_name(self):\n",
    "        return \"This is a High School student\"\n",
    "    \n",
    "    def get_name_capitalize(self):\n",
    "        original_value = super().get_name_capitalize() # super(): from parent\n",
    "        return original_value + \"-HS\"\n",
    "    "
   ]
  },
  {
   "cell_type": "code",
   "execution_count": 6,
   "metadata": {},
   "outputs": [
    {
     "name": "stdout",
     "output_type": "stream",
     "text": [
      "James-HS\n"
     ]
    }
   ],
   "source": [
    "james = HighSchoolStudent(\"james\")\n",
    "print(james.get_name_capitalize())"
   ]
  },
  {
   "cell_type": "code",
   "execution_count": 7,
   "metadata": {},
   "outputs": [
    {
     "name": "stdout",
     "output_type": "stream",
     "text": [
      "This is a High School student\n"
     ]
    }
   ],
   "source": [
    "james = HighSchoolStudent(\"james\")\n",
    "print(james.get_school_name())"
   ]
  },
  {
   "cell_type": "code",
   "execution_count": 8,
   "metadata": {},
   "outputs": [
    {
     "name": "stdout",
     "output_type": "stream",
     "text": [
      "James-HS\n"
     ]
    }
   ],
   "source": [
    "james = HighSchoolStudent(\"james\")\n",
    "print(james.get_name_capitalize())"
   ]
  }
 ],
 "metadata": {
  "kernelspec": {
   "display_name": "Python 3",
   "language": "python",
   "name": "python3"
  },
  "language_info": {
   "codemirror_mode": {
    "name": "ipython",
    "version": 3
   },
   "file_extension": ".py",
   "mimetype": "text/x-python",
   "name": "python",
   "nbconvert_exporter": "python",
   "pygments_lexer": "ipython3",
   "version": "3.6.2"
  }
 },
 "nbformat": 4,
 "nbformat_minor": 2
}
