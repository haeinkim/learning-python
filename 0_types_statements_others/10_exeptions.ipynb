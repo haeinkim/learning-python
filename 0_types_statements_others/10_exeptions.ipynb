{
 "cells": [
  {
   "cell_type": "code",
   "execution_count": 1,
   "metadata": {
    "collapsed": true
   },
   "outputs": [],
   "source": [
    "student = {\n",
    "    \"name\": \"Mark\",\n",
    "    \"student_id\": 15163,\n",
    "    \"feedback\": None\n",
    "}"
   ]
  },
  {
   "cell_type": "markdown",
   "metadata": {},
   "source": [
    "## KeyError"
   ]
  },
  {
   "cell_type": "code",
   "execution_count": 2,
   "metadata": {},
   "outputs": [
    {
     "name": "stdout",
     "output_type": "stream",
     "text": [
      "Error finding last_name\n",
      "This code executes!\n"
     ]
    }
   ],
   "source": [
    "try:\n",
    "    last_name = student[\"last_name\"]\n",
    "except KeyError:\n",
    "    print(\"Error finding last_name\")\n",
    "\n",
    "print(\"This code executes!\")"
   ]
  },
  {
   "cell_type": "markdown",
   "metadata": {},
   "source": [
    "## TypeError and Exception"
   ]
  },
  {
   "cell_type": "code",
   "execution_count": 3,
   "metadata": {},
   "outputs": [
    {
     "name": "stdout",
     "output_type": "stream",
     "text": [
      "I can't add these two together!\n",
      "This code executes!\n"
     ]
    }
   ],
   "source": [
    "student[\"last_name\"] = \"Kowalski\"\n",
    "\n",
    "try:\n",
    "    last_name = student[\"last_name\"]\n",
    "    numbered_last_name = 3 + last_name\n",
    "except KeyError:\n",
    "    print(\"Error finding last_name\")\n",
    "except TypeError:\n",
    "    print(\"I can't add these two together!\")\n",
    "except Exception: # Exception can handle any other error\n",
    "    print(\"Unkown error\")\n",
    "\n",
    "print(\"This code executes!\")"
   ]
  },
  {
   "cell_type": "code",
   "execution_count": 4,
   "metadata": {},
   "outputs": [
    {
     "name": "stdout",
     "output_type": "stream",
     "text": [
      "I can't add these two together!\n",
      "unsupported operand type(s) for +: 'int' and 'str'\n",
      "This code executes!\n"
     ]
    }
   ],
   "source": [
    "try:\n",
    "    last_name = student[\"last_name\"]\n",
    "    numbered_last_name = 3 + last_name\n",
    "except KeyError:\n",
    "    print(\"Error finding last_name\")\n",
    "except TypeError as error:\n",
    "    print(\"I can't add these two together!\")\n",
    "    print(error) # Geeting TypeError information \n",
    "\n",
    "print(\"This code executes!\")"
   ]
  }
 ],
 "metadata": {
  "kernelspec": {
   "display_name": "Python 3",
   "language": "python",
   "name": "python3"
  },
  "language_info": {
   "codemirror_mode": {
    "name": "ipython",
    "version": 3
   },
   "file_extension": ".py",
   "mimetype": "text/x-python",
   "name": "python",
   "nbconvert_exporter": "python",
   "pygments_lexer": "ipython3",
   "version": "3.6.2"
  }
 },
 "nbformat": 4,
 "nbformat_minor": 2
}
