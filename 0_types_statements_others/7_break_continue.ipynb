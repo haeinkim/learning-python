{
 "cells": [
  {
   "cell_type": "code",
   "execution_count": 1,
   "metadata": {
    "collapsed": true
   },
   "outputs": [],
   "source": [
    "student_names = [\"James\", \"Katrina\", \"Jessica\", \"Mark\", \"Bort\",\n",
    "                 \"Frank Grimes\", \"Max Power\"]"
   ]
  },
  {
   "cell_type": "code",
   "execution_count": 2,
   "metadata": {},
   "outputs": [
    {
     "name": "stdout",
     "output_type": "stream",
     "text": [
      "Currently testing James\n",
      "Currently testing Katrina\n",
      "Currently testing Jessica\n",
      "Found him!Mark\n",
      "Currently testing Mark\n",
      "Currently testing Bort\n",
      "Currently testing Frank Grimes\n",
      "Currently testing Max Power\n"
     ]
    }
   ],
   "source": [
    "for name in student_names:\n",
    "    if name == \"Mark\":\n",
    "        print(\"Found him!\"  + name)\n",
    "    print(\"Currently testing \" + name)"
   ]
  },
  {
   "cell_type": "markdown",
   "metadata": {},
   "source": [
    "## break"
   ]
  },
  {
   "cell_type": "code",
   "execution_count": 3,
   "metadata": {},
   "outputs": [
    {
     "name": "stdout",
     "output_type": "stream",
     "text": [
      "Currently testing James\n",
      "Currently testing Katrina\n",
      "Currently testing Jessica\n",
      "Found him!Mark\n"
     ]
    }
   ],
   "source": [
    "for name in student_names:\n",
    "    if name == \"Mark\":\n",
    "        print(\"Found him!\"  + name)\n",
    "        break\n",
    "    print(\"Currently testing \" + name)"
   ]
  },
  {
   "cell_type": "markdown",
   "metadata": {},
   "source": [
    "## continue"
   ]
  },
  {
   "cell_type": "code",
   "execution_count": 4,
   "metadata": {},
   "outputs": [
    {
     "name": "stdout",
     "output_type": "stream",
     "text": [
      "Currently testing James\n",
      "Currently testing Katrina\n",
      "Currently testing Jessica\n",
      "Currently testing Mark\n",
      "Currently testing Frank Grimes\n",
      "Currently testing Max Power\n"
     ]
    }
   ],
   "source": [
    "for name in student_names:\n",
    "    if name == \"Bort\":\n",
    "        continue # Continue onto the next iteration directly\n",
    "        print(\"Found him!\"  + name)\n",
    "    print(\"Currently testing \" + name)"
   ]
  }
 ],
 "metadata": {
  "kernelspec": {
   "display_name": "Python 3",
   "language": "python",
   "name": "python3"
  },
  "language_info": {
   "codemirror_mode": {
    "name": "ipython",
    "version": 3
   },
   "file_extension": ".py",
   "mimetype": "text/x-python",
   "name": "python",
   "nbconvert_exporter": "python",
   "pygments_lexer": "ipython3",
   "version": "3.6.2"
  }
 },
 "nbformat": 4,
 "nbformat_minor": 2
}
