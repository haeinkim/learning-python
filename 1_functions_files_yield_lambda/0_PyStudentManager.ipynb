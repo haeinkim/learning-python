{
 "cells": [
  {
   "cell_type": "markdown",
   "metadata": {},
   "source": [
    "## Functions"
   ]
  },
  {
   "cell_type": "code",
   "execution_count": 1,
   "metadata": {
    "collapsed": true
   },
   "outputs": [],
   "source": [
    "students = []"
   ]
  },
  {
   "cell_type": "code",
   "execution_count": 2,
   "metadata": {
    "collapsed": true
   },
   "outputs": [],
   "source": [
    "def get_students_titlecase():\n",
    "    students_titlecase = []\n",
    "    for student in students:\n",
    "        students_titlecase = student.title()\n",
    "    return students_titlecase\n",
    "\n",
    "\n",
    "def print_students_titlecase():\n",
    "    '''Replace the repetitive codes'''\n",
    "#     students_titlecase = []\n",
    "#     for student in students:\n",
    "#         students_titlecase = student.title()\n",
    "    students_titlecase = get_students_titlecase()\n",
    "    print(students_titlecase)\n",
    "\n",
    "\n",
    "def add_student(name):\n",
    "    students.append(name)"
   ]
  },
  {
   "cell_type": "code",
   "execution_count": 3,
   "metadata": {
    "collapsed": true
   },
   "outputs": [],
   "source": [
    "student_list = get_students_titlecase()"
   ]
  },
  {
   "cell_type": "code",
   "execution_count": 4,
   "metadata": {
    "collapsed": true
   },
   "outputs": [],
   "source": [
    "add_student(\"Mark\")"
   ]
  },
  {
   "cell_type": "markdown",
   "metadata": {},
   "source": [
    "## Function arguments"
   ]
  },
  {
   "cell_type": "code",
   "execution_count": 5,
   "metadata": {
    "collapsed": true
   },
   "outputs": [],
   "source": [
    "students = []"
   ]
  },
  {
   "cell_type": "code",
   "execution_count": 6,
   "metadata": {
    "collapsed": true
   },
   "outputs": [],
   "source": [
    "def get_students_titlecase():\n",
    "    students_titlecase = []\n",
    "    for student in students:\n",
    "        students_titlecase = student.title()\n",
    "    return students_titlecase\n",
    "\n",
    "\n",
    "def print_students_titlecase():\n",
    "    '''Replace the repetitive codes'''\n",
    "    students_titlecase = get_students_titlecase()\n",
    "    print(students_titlecase)\n",
    "\n",
    "\n",
    "def add_student(name, student_id=332):\n",
    "    student = {\"name\": name, \"student_id\": student_id}\n",
    "    students.append(student)"
   ]
  },
  {
   "cell_type": "code",
   "execution_count": 7,
   "metadata": {
    "collapsed": true
   },
   "outputs": [],
   "source": [
    "student_list = get_students_titlecase()"
   ]
  },
  {
   "cell_type": "code",
   "execution_count": 8,
   "metadata": {
    "collapsed": true
   },
   "outputs": [],
   "source": [
    "add_student(name=\"Mark\", student_id=15)"
   ]
  },
  {
   "cell_type": "markdown",
   "metadata": {},
   "source": [
    "### *args"
   ]
  },
  {
   "cell_type": "code",
   "execution_count": 9,
   "metadata": {
    "collapsed": true
   },
   "outputs": [],
   "source": [
    "def var_args(name, *args):\n",
    "    print(name)\n",
    "    print(args)"
   ]
  },
  {
   "cell_type": "code",
   "execution_count": 10,
   "metadata": {},
   "outputs": [
    {
     "name": "stdout",
     "output_type": "stream",
     "text": [
      "Mark\n",
      "('Loves Python', None, 'Hello', True)\n"
     ]
    }
   ],
   "source": [
    "var_args(\"Mark\", \"Loves Python\", None, \"Hello\", True)"
   ]
  },
  {
   "cell_type": "markdown",
   "metadata": {},
   "source": [
    "### **kwargs"
   ]
  },
  {
   "cell_type": "code",
   "execution_count": 11,
   "metadata": {
    "collapsed": true
   },
   "outputs": [],
   "source": [
    "def var_kwargs(name, **kwargs):\n",
    "    print(name)\n",
    "    print(kwargs[\"description\"], kwargs[\"feedback\"])"
   ]
  },
  {
   "cell_type": "code",
   "execution_count": 12,
   "metadata": {},
   "outputs": [
    {
     "name": "stdout",
     "output_type": "stream",
     "text": [
      "Mark\n",
      "Loves Python None\n"
     ]
    }
   ],
   "source": [
    "var_kwargs(\"Mark\", description=\"Loves Python\", \n",
    "           feedback=None, pluralsight_subscriber=True)"
   ]
  },
  {
   "cell_type": "code",
   "execution_count": null,
   "metadata": {
    "collapsed": true
   },
   "outputs": [],
   "source": []
  }
 ],
 "metadata": {
  "kernelspec": {
   "display_name": "Python 3",
   "language": "python",
   "name": "python3"
  },
  "language_info": {
   "codemirror_mode": {
    "name": "ipython",
    "version": 3
   },
   "file_extension": ".py",
   "mimetype": "text/x-python",
   "name": "python",
   "nbconvert_exporter": "python",
   "pygments_lexer": "ipython3",
   "version": "3.6.2"
  }
 },
 "nbformat": 4,
 "nbformat_minor": 2
}
