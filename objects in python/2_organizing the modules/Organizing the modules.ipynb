{
 "cells": [
  {
   "cell_type": "markdown",
   "metadata": {},
   "source": [
    "# Organizing the modules"
   ]
  },
  {
   "cell_type": "raw",
   "metadata": {},
   "source": [
    "parent_directory/\n",
    "    main.py\n",
    "    ecommerce/\n",
    "        __init__.py\n",
    "        database.py\n",
    "        products.py\n",
    "        payments/\n",
    "            __init__.py\n",
    "            square.py\n",
    "            stripe.py"
   ]
  },
  {
   "cell_type": "markdown",
   "metadata": {},
   "source": [
    "# Absolute imports"
   ]
  },
  {
   "cell_type": "markdown",
   "metadata": {},
   "source": [
    "**Absolute imports** specify the complete path to the module, function, or path we want to import."
   ]
  },
  {
   "cell_type": "code",
   "execution_count": 1,
   "metadata": {
    "collapsed": true
   },
   "outputs": [],
   "source": [
    "import ecommerce.products\n",
    "product = ecommerce.products.Product()"
   ]
  },
  {
   "cell_type": "code",
   "execution_count": 2,
   "metadata": {
    "collapsed": true
   },
   "outputs": [],
   "source": [
    "from ecommerce.products import Product\n",
    "product = Product()"
   ]
  },
  {
   "cell_type": "code",
   "execution_count": 3,
   "metadata": {
    "collapsed": true
   },
   "outputs": [],
   "source": [
    "from ecommerce import products\n",
    "product = products.Product()"
   ]
  },
  {
   "cell_type": "markdown",
   "metadata": {},
   "source": [
    "# Relative imports"
   ]
  },
  {
   "cell_type": "markdown",
   "metadata": {},
   "source": [
    "**Relative imports** are basically a way of saying find a class, function, or module as it is positioned relative to the current module."
   ]
  },
  {
   "cell_type": "markdown",
   "metadata": {
    "collapsed": true
   },
   "source": [
    "# Organizing module contents"
   ]
  },
  {
   "cell_type": "code",
   "execution_count": 4,
   "metadata": {},
   "outputs": [
    {
     "name": "stdout",
     "output_type": "stream",
     "text": [
      "<__main__.UsefulClass object at 0x0000029989CD60B8>\n"
     ]
    }
   ],
   "source": [
    "class UsefulClass:\n",
    "    '''This class might be useful to other modules.'''\n",
    "    pass\n",
    "\n",
    "def main():\n",
    "    '''creates a useful class and does something with it for our module'''\n",
    "    useful = UsefulClass()\n",
    "    print(useful)\n",
    "\n",
    "if __name__ == \"__main__\":\n",
    "    main()"
   ]
  },
  {
   "cell_type": "markdown",
   "metadata": {},
   "source": [
    "# Classes can be defined anywhere"
   ]
  },
  {
   "cell_type": "code",
   "execution_count": 5,
   "metadata": {
    "collapsed": true
   },
   "outputs": [],
   "source": [
    "def format_string(string, formatter=None):\n",
    "    '''Format a string using the formatter object, which\n",
    "    is expected to have a format() method that accepts \n",
    "    a string'''\n",
    "    class DefaultFormatter:\n",
    "        '''Format a string in title cas.'''\n",
    "        def format(self, string):\n",
    "            return str(string).title() # .title(): returns a copy of the string in which first characters of all the words are capitalized.\n",
    "    \n",
    "    if not formatter:\n",
    "        formatter = DefaultFormatter()\n",
    "    \n",
    "    return formatter.format(string)"
   ]
  },
  {
   "cell_type": "code",
   "execution_count": 6,
   "metadata": {},
   "outputs": [
    {
     "name": "stdout",
     "output_type": "stream",
     "text": [
      " input: hello world, how are you today?\n",
      "output: Hello World, How Are You Today?\n"
     ]
    }
   ],
   "source": [
    "hello_string = \"hello world, how are you today?\"\n",
    "print(\" input: \" + hello_string)\n",
    "print(\"output: \" + format_string(hello_string))"
   ]
  },
  {
   "cell_type": "markdown",
   "metadata": {},
   "source": [
    "# Who can access my data?"
   ]
  },
  {
   "cell_type": "code",
   "execution_count": 7,
   "metadata": {
    "collapsed": true
   },
   "outputs": [],
   "source": [
    "class SecretString:\n",
    "    '''A not-at-all secure way to store a secret string.'''\n",
    "    \n",
    "    def __init__(self, plain_string, pass_phrase):\n",
    "        self.__plain_string = plain_string\n",
    "        self.__pass_phrase = pass_phrase\n",
    "        \n",
    "    def decrypt(self, pass_phrase):\n",
    "        '''Only show the string if the pass_phrase is correct.'''\n",
    "        if pass_phrase == self.__pass_phrase:\n",
    "            return self.__plain_string\n",
    "        else:\n",
    "            return ''"
   ]
  },
  {
   "cell_type": "code",
   "execution_count": 8,
   "metadata": {},
   "outputs": [
    {
     "name": "stdout",
     "output_type": "stream",
     "text": [
      "ACME: Top Secret\n"
     ]
    }
   ],
   "source": [
    "secret_string = SecretString(\"ACME: Top Secret\", \"antwerp\")\n",
    "print(secret_string.decrypt(\"antwerp\"))"
   ]
  },
  {
   "cell_type": "code",
   "execution_count": 9,
   "metadata": {},
   "outputs": [
    {
     "ename": "AttributeError",
     "evalue": "'SecretString' object has no attribute '__plain_string'",
     "output_type": "error",
     "traceback": [
      "\u001b[1;31m---------------------------------------------------------------------------\u001b[0m",
      "\u001b[1;31mAttributeError\u001b[0m                            Traceback (most recent call last)",
      "\u001b[1;32m<ipython-input-9-39ac76ef5f2c>\u001b[0m in \u001b[0;36m<module>\u001b[1;34m()\u001b[0m\n\u001b[1;32m----> 1\u001b[1;33m \u001b[0mprint\u001b[0m\u001b[1;33m(\u001b[0m\u001b[0msecret_string\u001b[0m\u001b[1;33m.\u001b[0m\u001b[0m__plain_string\u001b[0m\u001b[1;33m)\u001b[0m\u001b[1;33m\u001b[0m\u001b[0m\n\u001b[0m",
      "\u001b[1;31mAttributeError\u001b[0m: 'SecretString' object has no attribute '__plain_string'"
     ]
    }
   ],
   "source": [
    "print(secret_string.__plain_string)"
   ]
  },
  {
   "cell_type": "code",
   "execution_count": 10,
   "metadata": {},
   "outputs": [
    {
     "name": "stdout",
     "output_type": "stream",
     "text": [
      "ACME: Top Secret\n"
     ]
    }
   ],
   "source": [
    "print(secret_string._SecretString__plain_string)"
   ]
  }
 ],
 "metadata": {
  "kernelspec": {
   "display_name": "Python 3",
   "language": "python",
   "name": "python3"
  },
  "language_info": {
   "codemirror_mode": {
    "name": "ipython",
    "version": 3
   },
   "file_extension": ".py",
   "mimetype": "text/x-python",
   "name": "python",
   "nbconvert_exporter": "python",
   "pygments_lexer": "ipython3",
   "version": "3.6.1"
  }
 },
 "nbformat": 4,
 "nbformat_minor": 2
}
