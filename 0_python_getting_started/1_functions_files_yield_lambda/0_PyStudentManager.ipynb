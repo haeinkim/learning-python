{
 "cells": [
  {
   "cell_type": "markdown",
   "metadata": {},
   "source": [
    "## Functions"
   ]
  },
  {
   "cell_type": "code",
   "execution_count": 1,
   "metadata": {
    "collapsed": true
   },
   "outputs": [],
   "source": [
    "students = []"
   ]
  },
  {
   "cell_type": "code",
   "execution_count": 2,
   "metadata": {
    "collapsed": true
   },
   "outputs": [],
   "source": [
    "def get_students_titlecase():\n",
    "    students_titlecase = []\n",
    "    for student in students:\n",
    "        students_titlecase = student.title()\n",
    "    return students_titlecase\n",
    "\n",
    "\n",
    "def print_students_titlecase():\n",
    "    '''Replace the repetitive codes'''\n",
    "#     students_titlecase = []\n",
    "#     for student in students:\n",
    "#         students_titlecase = student.title()\n",
    "    students_titlecase = get_students_titlecase()\n",
    "    print(students_titlecase)\n",
    "\n",
    "\n",
    "def add_student(name):\n",
    "    students.append(name)"
   ]
  },
  {
   "cell_type": "code",
   "execution_count": 3,
   "metadata": {
    "collapsed": true
   },
   "outputs": [],
   "source": [
    "student_list = get_students_titlecase()"
   ]
  },
  {
   "cell_type": "code",
   "execution_count": 4,
   "metadata": {
    "collapsed": true
   },
   "outputs": [],
   "source": [
    "add_student(\"Mark\")"
   ]
  },
  {
   "cell_type": "markdown",
   "metadata": {},
   "source": [
    "## Function arguments"
   ]
  },
  {
   "cell_type": "code",
   "execution_count": 5,
   "metadata": {
    "collapsed": true
   },
   "outputs": [],
   "source": [
    "students = []"
   ]
  },
  {
   "cell_type": "code",
   "execution_count": 6,
   "metadata": {
    "collapsed": true
   },
   "outputs": [],
   "source": [
    "def get_students_titlecase():\n",
    "    students_titlecase = []\n",
    "    for student in students:\n",
    "        students_titlecase = student.title()\n",
    "    return students_titlecase\n",
    "\n",
    "\n",
    "def print_students_titlecase():\n",
    "    '''Replace the repetitive codes'''\n",
    "    students_titlecase = get_students_titlecase()\n",
    "    print(students_titlecase)\n",
    "\n",
    "\n",
    "def add_student(name, student_id=332):\n",
    "    student = {\"name\": name, \"student_id\": student_id}\n",
    "    students.append(student)"
   ]
  },
  {
   "cell_type": "code",
   "execution_count": 7,
   "metadata": {
    "collapsed": true
   },
   "outputs": [],
   "source": [
    "student_list = get_students_titlecase()"
   ]
  },
  {
   "cell_type": "code",
   "execution_count": 8,
   "metadata": {
    "collapsed": true
   },
   "outputs": [],
   "source": [
    "add_student(name=\"Mark\", student_id=15)"
   ]
  },
  {
   "cell_type": "markdown",
   "metadata": {},
   "source": [
    "### *args"
   ]
  },
  {
   "cell_type": "code",
   "execution_count": 9,
   "metadata": {
    "collapsed": true
   },
   "outputs": [],
   "source": [
    "def var_args(name, *args):\n",
    "    print(name)\n",
    "    print(args)"
   ]
  },
  {
   "cell_type": "code",
   "execution_count": 10,
   "metadata": {},
   "outputs": [
    {
     "name": "stdout",
     "output_type": "stream",
     "text": [
      "Mark\n",
      "('Loves Python', None, 'Hello', True)\n"
     ]
    }
   ],
   "source": [
    "var_args(\"Mark\", \"Loves Python\", None, \"Hello\", True)"
   ]
  },
  {
   "cell_type": "markdown",
   "metadata": {},
   "source": [
    "### **kwargs"
   ]
  },
  {
   "cell_type": "code",
   "execution_count": 11,
   "metadata": {
    "collapsed": true
   },
   "outputs": [],
   "source": [
    "def var_kwargs(name, **kwargs):\n",
    "    print(name)\n",
    "    print(kwargs[\"description\"], kwargs[\"feedback\"])"
   ]
  },
  {
   "cell_type": "code",
   "execution_count": 12,
   "metadata": {},
   "outputs": [
    {
     "name": "stdout",
     "output_type": "stream",
     "text": [
      "Mark\n",
      "Loves Python None\n"
     ]
    }
   ],
   "source": [
    "var_kwargs(\"Mark\", description=\"Loves Python\", \n",
    "           feedback=None, pluralsight_subscriber=True)"
   ]
  },
  {
   "cell_type": "markdown",
   "metadata": {
    "collapsed": true
   },
   "source": [
    "##  Adding Students to Our App"
   ]
  },
  {
   "cell_type": "code",
   "execution_count": 13,
   "metadata": {
    "collapsed": true
   },
   "outputs": [],
   "source": [
    "students = []"
   ]
  },
  {
   "cell_type": "code",
   "execution_count": 14,
   "metadata": {
    "collapsed": true
   },
   "outputs": [],
   "source": [
    "def get_students_titlecase():\n",
    "    students_titlecase = []\n",
    "    for student in students:\n",
    "        students_titlecase = student[\"name\"].title()\n",
    "    return students_titlecase\n",
    "\n",
    "\n",
    "def print_students_titlecase():\n",
    "    '''Replace the repetitive codes'''\n",
    "    students_titlecase = get_students_titlecase()\n",
    "    print(students_titlecase)\n",
    "\n",
    "\n",
    "def add_student(name, student_id=332):\n",
    "    student = {\"name\": name, \"student_id\": student_id}\n",
    "    students.append(student)"
   ]
  },
  {
   "cell_type": "code",
   "execution_count": 15,
   "metadata": {},
   "outputs": [],
   "source": [
    "student_list = get_students_titlecase()"
   ]
  },
  {
   "cell_type": "code",
   "execution_count": 16,
   "metadata": {},
   "outputs": [
    {
     "name": "stdout",
     "output_type": "stream",
     "text": [
      "Enter student name: James\n",
      "Enter student ID: 322\n",
      "James\n"
     ]
    }
   ],
   "source": [
    "student_name = input(\"Enter student name: \")\n",
    "student_id = input(\"Enter student ID: \")\n",
    "\n",
    "add_student(student_name, student_id)\n",
    "print_students_titlecase()"
   ]
  },
  {
   "cell_type": "markdown",
   "metadata": {},
   "source": [
    "## Nested Functions"
   ]
  },
  {
   "cell_type": "code",
   "execution_count": 17,
   "metadata": {
    "collapsed": true
   },
   "outputs": [],
   "source": [
    "def get_students():\n",
    "    students = [\"mark\", \"james\"]\n",
    "    def get_students_titlecase():\n",
    "        students_titlecase = []\n",
    "        for student in students: # students from get_students()' list\n",
    "            students_titlecase.append(student.title())\n",
    "        return student_titlecase\n",
    "    students_titlecase_names = get_students_titlecase()\n",
    "    print(students_titlecase_names)"
   ]
  },
  {
   "cell_type": "markdown",
   "metadata": {},
   "source": [
    "## Opening, Reading, and Writing Files"
   ]
  },
  {
   "cell_type": "markdown",
   "metadata": {},
   "source": [
    "* `open(\"FILE_NAME\", \"ACCESS_MODES\")`\n",
    "    * `\"w\"` - writing; overwrites the entire file\n",
    "    * `\"r\"` - reading a text file\n",
    "    * `\"a\"` - appending to a new or existing file\n",
    "    * `\"rb\"` - reading a binary file\n",
    "    * `\"wb\"` - writing to a binary file"
   ]
  },
  {
   "cell_type": "code",
   "execution_count": 18,
   "metadata": {
    "collapsed": true
   },
   "outputs": [],
   "source": [
    "students = []\n",
    "\n",
    "\n",
    "def get_students_titlecase():\n",
    "    students_titlecase = []\n",
    "    for student in students:\n",
    "        students_titlecase.append(student[\"name\"].title())\n",
    "    return students_titlecase\n",
    "\n",
    "\n",
    "def print_students_titlecase():\n",
    "    '''Replace the repetitive codes'''\n",
    "    students_titlecase = get_students_titlecase()\n",
    "    print(students_titlecase)\n",
    "\n",
    "\n",
    "def add_student(name, student_id=332):\n",
    "    student = {\"name\": name, \"student_id\": student_id}\n",
    "    students.append(student)\n",
    "    \n",
    "\n",
    "def save_file(student):\n",
    "    try:\n",
    "        f = open(\"students.txt\", \"a\")\n",
    "        f.write(student + \"\\n\")\n",
    "        f.close()\n",
    "    except Exception:\n",
    "        print(\"Could not save file\")\n",
    "        \n",
    "\n",
    "def read_file():\n",
    "    try:\n",
    "        f = open(\"students.txt\", \"r\")\n",
    "        for student in f.readlines():\n",
    "            add_student(student)\n",
    "        f.close()\n",
    "    except Exception:\n",
    "        print(\"Could not read file\")\n",
    "\n",
    "\n",
    "\n",
    "\n",
    "\n",
    "\n",
    "  "
   ]
  },
  {
   "cell_type": "code",
   "execution_count": 19,
   "metadata": {},
   "outputs": [
    {
     "name": "stdout",
     "output_type": "stream",
     "text": [
      "['Mark\\n', 'James\\n']\n"
     ]
    }
   ],
   "source": [
    "read_file()\n",
    "print_students_titlecase()"
   ]
  },
  {
   "cell_type": "code",
   "execution_count": 20,
   "metadata": {},
   "outputs": [
    {
     "name": "stdout",
     "output_type": "stream",
     "text": [
      "Enter student name: James\n",
      "Enter student ID: 322\n"
     ]
    }
   ],
   "source": [
    "student_name = input(\"Enter student name: \")\n",
    "student_id = input(\"Enter student ID: \")"
   ]
  },
  {
   "cell_type": "code",
   "execution_count": 21,
   "metadata": {
    "collapsed": true
   },
   "outputs": [],
   "source": [
    "add_student(student_name, student_id)\n",
    "save_file(student_name)      "
   ]
  },
  {
   "cell_type": "markdown",
   "metadata": {},
   "source": [
    "## Generator Functions - Yield"
   ]
  },
  {
   "cell_type": "code",
   "execution_count": 22,
   "metadata": {},
   "outputs": [
    {
     "name": "stdout",
     "output_type": "stream",
     "text": [
      "['Mark\\n', 'James\\n', 'James\\n']\n"
     ]
    }
   ],
   "source": [
    "students = []\n",
    "\n",
    "\n",
    "def read_file():\n",
    "    try:\n",
    "        f = open(\"students.txt\", \"r\")\n",
    "        for student in read_students(f):\n",
    "            students.append(student)\n",
    "        f.close()\n",
    "    except Exception:\n",
    "        print(\"Could not read file\")\n",
    "\n",
    "\n",
    "def read_students(f):\n",
    "    for line in f:\n",
    "        yield line\n",
    "\n",
    "\n",
    "read_file()\n",
    "print(students)\n"
   ]
  },
  {
   "cell_type": "markdown",
   "metadata": {},
   "source": [
    "## Lambda Functions"
   ]
  },
  {
   "cell_type": "code",
   "execution_count": 23,
   "metadata": {
    "collapsed": true
   },
   "outputs": [],
   "source": [
    "def double(x):\n",
    "    return x * 2"
   ]
  },
  {
   "cell_type": "code",
   "execution_count": 24,
   "metadata": {
    "collapsed": true
   },
   "outputs": [],
   "source": [
    "double = lambda x: x * 2"
   ]
  },
  {
   "cell_type": "code",
   "execution_count": 25,
   "metadata": {},
   "outputs": [
    {
     "data": {
      "text/plain": [
       "10"
      ]
     },
     "execution_count": 25,
     "metadata": {},
     "output_type": "execute_result"
    }
   ],
   "source": [
    "double(5)"
   ]
  }
 ],
 "metadata": {
  "kernelspec": {
   "display_name": "Python 3",
   "language": "python",
   "name": "python3"
  },
  "language_info": {
   "codemirror_mode": {
    "name": "ipython",
    "version": 3
   },
   "file_extension": ".py",
   "mimetype": "text/x-python",
   "name": "python",
   "nbconvert_exporter": "python",
   "pygments_lexer": "ipython3",
   "version": "3.6.2"
  }
 },
 "nbformat": 4,
 "nbformat_minor": 2
}
